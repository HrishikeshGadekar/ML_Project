{
  "nbformat": 4,
  "nbformat_minor": 0,
  "metadata": {
    "colab": {
      "name": "Untitled7.ipynb",
      "version": "0.3.2",
      "provenance": [],
      "private_outputs": true,
      "include_colab_link": true
    },
    "kernelspec": {
      "name": "python3",
      "display_name": "Python 3"
    }
  },
  "cells": [
    {
      "cell_type": "markdown",
      "metadata": {
        "id": "view-in-github",
        "colab_type": "text"
      },
      "source": [
        "<a href=\"https://colab.research.google.com/github/Nandhakumarpro/GoogleMaps/blob/master/Untitled7.ipynb\" target=\"_parent\"><img src=\"https://colab.research.google.com/assets/colab-badge.svg\" alt=\"Open In Colab\"/></a>"
      ]
    },
    {
      "cell_type": "code",
      "metadata": {
        "id": "H2HNMnzWSMn2",
        "colab_type": "code",
        "colab": {}
      },
      "source": [
        "with open( '/home/its_lab/Desktop/Untitled-1.py') as file :\n",
        "  data = file.readlines()"
      ],
      "execution_count": 0,
      "outputs": []
    },
    {
      "cell_type": "code",
      "metadata": {
        "id": "y0TI8nmWSzrl",
        "colab_type": "code",
        "colab": {}
      },
      "source": [
        "for i in range( len (data )) : \n",
        "  data[i] = data[i].replace('\\t' , '  ')"
      ],
      "execution_count": 0,
      "outputs": []
    },
    {
      "cell_type": "code",
      "metadata": {
        "id": "dEIM2UoHS2pD",
        "colab_type": "code",
        "colab": {}
      },
      "source": [
        "'\\t\\t\\t\\t\\t# conn2.close()\\n'.replace('\\t' , '  ')"
      ],
      "execution_count": 0,
      "outputs": []
    },
    {
      "cell_type": "code",
      "metadata": {
        "id": "Pu97K3iAUDSE",
        "colab_type": "code",
        "colab": {}
      },
      "source": [
        "with open('/home/its_lab/Desktop/Untitled-1.py' , 'w') as file :\n",
        "  file.writelines ( data )"
      ],
      "execution_count": 0,
      "outputs": []
    },
    {
      "cell_type": "code",
      "metadata": {
        "id": "GLbTpeu6Uhzv",
        "colab_type": "code",
        "colab": {}
      },
      "source": [
        "data[:100]"
      ],
      "execution_count": 0,
      "outputs": []
    },
    {
      "cell_type": "code",
      "metadata": {
        "id": "XekPh2QSU-tx",
        "colab_type": "code",
        "colab": {}
      },
      "source": [
        ""
      ],
      "execution_count": 0,
      "outputs": []
    }
  ]
}